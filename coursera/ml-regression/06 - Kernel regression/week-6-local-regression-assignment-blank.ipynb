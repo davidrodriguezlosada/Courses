{
 "cells": [
  {
   "cell_type": "markdown",
   "metadata": {},
   "source": [
    "# Predicting house prices using k-nearest neighbors regression\n",
    "In this notebook, you will implement k-nearest neighbors regression. You will:\n",
    "  * Find the k-nearest neighbors of a given query input\n",
    "  * Predict the output for the query input using the k-nearest neighbors\n",
    "  * Choose the best value of k using a validation set"
   ]
  },
  {
   "cell_type": "markdown",
   "metadata": {},
   "source": [
    "# Fire up GraphLab Create"
   ]
  },
  {
   "cell_type": "code",
   "execution_count": 1,
   "metadata": {
    "collapsed": true
   },
   "outputs": [],
   "source": [
    "import graphlab"
   ]
  },
  {
   "cell_type": "markdown",
   "metadata": {},
   "source": [
    "# Load in house sales data"
   ]
  },
  {
   "cell_type": "markdown",
   "metadata": {},
   "source": [
    "For this notebook, we use a subset of the King County housing dataset created by randomly selecting 40% of the houses in the full dataset."
   ]
  },
  {
   "cell_type": "code",
   "execution_count": 2,
   "metadata": {
    "collapsed": false
   },
   "outputs": [
    {
     "name": "stdout",
     "output_type": "stream",
     "text": [
      "This non-commercial license of GraphLab Create for academic use is assigned to davidrodriguezlosada@gmail.com and will expire on July 03, 2019.\n"
     ]
    },
    {
     "name": "stderr",
     "output_type": "stream",
     "text": [
      "[INFO] graphlab.cython.cy_server: GraphLab Create v2.1 started. Logging: C:\\Users\\David\\AppData\\Local\\Temp\\graphlab_server_1539706613.log.0\n"
     ]
    }
   ],
   "source": [
    "sales = graphlab.SFrame('kc_house_data_small.gl/')"
   ]
  },
  {
   "cell_type": "markdown",
   "metadata": {},
   "source": [
    "# Import useful functions from previous notebooks"
   ]
  },
  {
   "cell_type": "markdown",
   "metadata": {},
   "source": [
    "To efficiently compute pairwise distances among data points, we will convert the SFrame into a 2D Numpy array. First import the numpy library and then copy and paste `get_numpy_data()` from the second notebook of Week 2."
   ]
  },
  {
   "cell_type": "code",
   "execution_count": 3,
   "metadata": {
    "collapsed": true
   },
   "outputs": [],
   "source": [
    "import numpy as np # note this allows us to refer to numpy as np instead"
   ]
  },
  {
   "cell_type": "code",
   "execution_count": 4,
   "metadata": {
    "collapsed": true
   },
   "outputs": [],
   "source": [
    "def get_numpy_data(data_sframe, features, output):\n",
    "    data_sframe['constant'] = 1 # this is how you add a constant column to an SFrame\n",
    "    # add the column 'constant' to the front of the features list so that we can extract it along with the others:\n",
    "    features = ['constant'] + features # this is how you combine two lists\n",
    "    # select the columns of data_SFrame given by the features list into the SFrame features_sframe (now including constant):\n",
    "    features_sframe = data_sframe[features]\n",
    "    # the following line will convert the features_SFrame into a numpy matrix:\n",
    "    feature_matrix = features_sframe.to_numpy()\n",
    "    # assign the column of data_sframe associated with the output to the SArray output_sarray\n",
    "    output_sarray = data_sframe[output]\n",
    "    # the following will convert the SArray into a numpy array by first converting it to a list\n",
    "    output_array = output_sarray.to_numpy()\n",
    "    return(feature_matrix, output_array)"
   ]
  },
  {
   "cell_type": "markdown",
   "metadata": {},
   "source": [
    "We will also need the `normalize_features()` function from Week 5 that normalizes all feature columns to unit norm. Paste this function below."
   ]
  },
  {
   "cell_type": "code",
   "execution_count": 5,
   "metadata": {
    "collapsed": true
   },
   "outputs": [],
   "source": [
    "def normalize_features(feature_matrix):\n",
    "    norms = np.linalg.norm(feature_matrix, axis=0)\n",
    "    normalized_features = feature_matrix / norms\n",
    "    return normalized_features, norms"
   ]
  },
  {
   "cell_type": "markdown",
   "metadata": {},
   "source": [
    "# Split data into training, test, and validation sets"
   ]
  },
  {
   "cell_type": "code",
   "execution_count": 6,
   "metadata": {
    "collapsed": false
   },
   "outputs": [],
   "source": [
    "(train_and_validation, test) = sales.random_split(.8, seed=1) # initial train/test split\n",
    "(train, validation) = train_and_validation.random_split(.8, seed=1) # split training set into training and validation sets"
   ]
  },
  {
   "cell_type": "markdown",
   "metadata": {},
   "source": [
    "# Extract features and normalize"
   ]
  },
  {
   "cell_type": "markdown",
   "metadata": {},
   "source": [
    "Using all of the numerical inputs listed in `feature_list`, transform the training, test, and validation SFrames into Numpy arrays:"
   ]
  },
  {
   "cell_type": "code",
   "execution_count": 7,
   "metadata": {
    "collapsed": false
   },
   "outputs": [],
   "source": [
    "feature_list = ['bedrooms',  \n",
    "                'bathrooms',  \n",
    "                'sqft_living',  \n",
    "                'sqft_lot',  \n",
    "                'floors',\n",
    "                'waterfront',  \n",
    "                'view',  \n",
    "                'condition',  \n",
    "                'grade',  \n",
    "                'sqft_above',  \n",
    "                'sqft_basement',\n",
    "                'yr_built',  \n",
    "                'yr_renovated',  \n",
    "                'lat',  \n",
    "                'long',  \n",
    "                'sqft_living15',  \n",
    "                'sqft_lot15']\n",
    "features_train, output_train = get_numpy_data(train, feature_list, 'price')\n",
    "features_test, output_test = get_numpy_data(test, feature_list, 'price')\n",
    "features_valid, output_valid = get_numpy_data(validation, feature_list, 'price')"
   ]
  },
  {
   "cell_type": "markdown",
   "metadata": {},
   "source": [
    "In computing distances, it is crucial to normalize features. Otherwise, for example, the `sqft_living` feature (typically on the order of thousands) would exert a much larger influence on distance than the `bedrooms` feature (typically on the order of ones). We divide each column of the training feature matrix by its 2-norm, so that the transformed column has unit norm.\n",
    "\n",
    "IMPORTANT: Make sure to store the norms of the features in the training set. The features in the test and validation sets must be divided by these same norms, so that the training, test, and validation sets are normalized consistently."
   ]
  },
  {
   "cell_type": "code",
   "execution_count": 8,
   "metadata": {
    "collapsed": true
   },
   "outputs": [],
   "source": [
    "features_train, norms = normalize_features(features_train) # normalize training set features (columns)\n",
    "features_test = features_test / norms # normalize test set by training set norms\n",
    "features_valid = features_valid / norms # normalize validation set by training set norms"
   ]
  },
  {
   "cell_type": "markdown",
   "metadata": {},
   "source": [
    "# Compute a single distance"
   ]
  },
  {
   "cell_type": "markdown",
   "metadata": {},
   "source": [
    "To start, let's just explore computing the \"distance\" between two given houses.  We will take our **query house** to be the first house of the test set and look at the distance between this house and the 10th house of the training set.\n",
    "\n",
    "To see the features associated with the query house, print the first row (index 0) of the test feature matrix. You should get an 18-dimensional vector whose components are between 0 and 1."
   ]
  },
  {
   "cell_type": "code",
   "execution_count": 9,
   "metadata": {
    "collapsed": false
   },
   "outputs": [
    {
     "name": "stdout",
     "output_type": "stream",
     "text": [
      "[ 0.01345102  0.01551285  0.01807473  0.01759212  0.00160518  0.017059    0.\n",
      "  0.05102365  0.0116321   0.01564352  0.01362084  0.02481682  0.01350306\n",
      "  0.          0.01345386 -0.01346927  0.01375926  0.0016225 ]\n"
     ]
    }
   ],
   "source": [
    "q_house = features_test[0]\n",
    "print q_house"
   ]
  },
  {
   "cell_type": "markdown",
   "metadata": {},
   "source": [
    "Now print the 10th row (index 9) of the training feature matrix. Again, you get an 18-dimensional vector with components between 0 and 1."
   ]
  },
  {
   "cell_type": "code",
   "execution_count": 10,
   "metadata": {
    "collapsed": false
   },
   "outputs": [
    {
     "name": "stdout",
     "output_type": "stream",
     "text": [
      "[ 0.01345102  0.01163464  0.00602491  0.0083488   0.00050756  0.01279425\n",
      "  0.          0.          0.01938684  0.01390535  0.0096309   0.\n",
      "  0.01302544  0.          0.01346821 -0.01346254  0.01195898  0.00156612]\n"
     ]
    }
   ],
   "source": [
    "tenth_house = features_train[9]\n",
    "print tenth_house"
   ]
  },
  {
   "cell_type": "markdown",
   "metadata": {},
   "source": [
    "***QUIZ QUESTION ***\n",
    "\n",
    "What is the Euclidean distance between the query house and the 10th house of the training set? \n",
    "> 0.0597235937167\n",
    "\n",
    "Note: Do not use the `np.linalg.norm` function; use `np.sqrt`, `np.sum`, and the power operator (`**`) instead. The latter approach is more easily adapted to computing multiple distances at once."
   ]
  },
  {
   "cell_type": "code",
   "execution_count": 11,
   "metadata": {
    "collapsed": false
   },
   "outputs": [
    {
     "name": "stdout",
     "output_type": "stream",
     "text": [
      "0.0597235937167\n",
      "0.0597235937167\n"
     ]
    }
   ],
   "source": [
    "distance = np.sqrt(np.sum((q_house-tenth_house)**2))\n",
    "distance2 = np.linalg.norm(q_house - tenth_house)\n",
    "print distance\n",
    "print distance2"
   ]
  },
  {
   "cell_type": "markdown",
   "metadata": {},
   "source": [
    "# Compute multiple distances"
   ]
  },
  {
   "cell_type": "markdown",
   "metadata": {},
   "source": [
    "Of course, to do nearest neighbor regression, we need to compute the distance between our query house and *all* houses in the training set.  \n",
    "\n",
    "To visualize this nearest-neighbor search, let's first compute the distance from our query house (`features_test[0]`) to the first 10 houses of the training set (`features_train[0:10]`) and then search for the nearest neighbor within this small set of houses.  Through restricting ourselves to a small set of houses to begin with, we can visually scan the list of 10 distances to verify that our code for finding the nearest neighbor is working.\n",
    "\n",
    "Write a loop to compute the Euclidean distance from the query house to each of the first 10 houses in the training set."
   ]
  },
  {
   "cell_type": "code",
   "execution_count": 12,
   "metadata": {
    "collapsed": false
   },
   "outputs": [
    {
     "name": "stdout",
     "output_type": "stream",
     "text": [
      "[0.0602747091729555, 0.085468811488270832, 0.061499464371202843, 0.053402739788200579, 0.058444840639381393, 0.059879215101840008, 0.054631404972615261, 0.055431083241597921, 0.052383627840972731, 0.059723593716661257]\n"
     ]
    }
   ],
   "source": [
    "distances = []\n",
    "for i in range(10):\n",
    "    distances.append(np.sqrt(np.sum((q_house-features_train[i])**2)))\n",
    "print distances"
   ]
  },
  {
   "cell_type": "markdown",
   "metadata": {},
   "source": [
    "*** QUIZ QUESTION ***\n",
    "\n",
    "Among the first 10 training houses, which house is the closest to the query house?\n",
    "\n",
    "> La novena"
   ]
  },
  {
   "cell_type": "code",
   "execution_count": null,
   "metadata": {
    "collapsed": false
   },
   "outputs": [],
   "source": []
  },
  {
   "cell_type": "markdown",
   "metadata": {},
   "source": [
    "It is computationally inefficient to loop over computing distances to all houses in our training dataset. Fortunately, many of the Numpy functions can be **vectorized**, applying the same operation over multiple values or vectors.  We now walk through this process."
   ]
  },
  {
   "cell_type": "markdown",
   "metadata": {},
   "source": [
    "Consider the following loop that computes the element-wise difference between the features of the query house (`features_test[0]`) and the first 3 training houses (`features_train[0:3]`):"
   ]
  },
  {
   "cell_type": "code",
   "execution_count": 13,
   "metadata": {
    "collapsed": false,
    "scrolled": false
   },
   "outputs": [
    {
     "name": "stdout",
     "output_type": "stream",
     "text": [
      "[  0.00000000e+00  -3.87821276e-03  -1.20498190e-02  -1.05552733e-02\n",
      "   2.08673616e-04  -8.52950206e-03   0.00000000e+00  -5.10236549e-02\n",
      "   0.00000000e+00  -3.47633726e-03  -5.50336860e-03  -2.48168183e-02\n",
      "  -1.63756198e-04   0.00000000e+00  -1.70072004e-05   1.30577772e-05\n",
      "  -5.14364795e-03   6.69281453e-04]\n",
      "[  0.00000000e+00  -3.87821276e-03  -4.51868214e-03  -2.26610387e-03\n",
      "   7.19763456e-04   0.00000000e+00   0.00000000e+00  -5.10236549e-02\n",
      "   0.00000000e+00  -3.47633726e-03   1.30705004e-03  -1.45830788e-02\n",
      "  -1.91048898e-04   6.65082271e-02   4.23240653e-05   6.22415897e-06\n",
      "  -2.89330197e-03   1.47606982e-03]\n",
      "[  0.00000000e+00  -7.75642553e-03  -1.20498190e-02  -1.30002801e-02\n",
      "   1.60518166e-03  -8.52950206e-03   0.00000000e+00  -5.10236549e-02\n",
      "   0.00000000e+00  -5.21450589e-03  -8.32384500e-03  -2.48168183e-02\n",
      "  -3.13866046e-04   0.00000000e+00   4.71047219e-05   1.56530415e-05\n",
      "   3.72914476e-03   1.64764925e-03]\n"
     ]
    }
   ],
   "source": [
    "for i in xrange(3):\n",
    "    print features_train[i]-features_test[0]\n",
    "    # should print 3 vectors of length 18"
   ]
  },
  {
   "cell_type": "markdown",
   "metadata": {},
   "source": [
    "The subtraction operator (`-`) in Numpy is vectorized as follows:"
   ]
  },
  {
   "cell_type": "code",
   "execution_count": 14,
   "metadata": {
    "collapsed": false
   },
   "outputs": [
    {
     "name": "stdout",
     "output_type": "stream",
     "text": [
      "[[  0.00000000e+00  -3.87821276e-03  -1.20498190e-02  -1.05552733e-02\n",
      "    2.08673616e-04  -8.52950206e-03   0.00000000e+00  -5.10236549e-02\n",
      "    0.00000000e+00  -3.47633726e-03  -5.50336860e-03  -2.48168183e-02\n",
      "   -1.63756198e-04   0.00000000e+00  -1.70072004e-05   1.30577772e-05\n",
      "   -5.14364795e-03   6.69281453e-04]\n",
      " [  0.00000000e+00  -3.87821276e-03  -4.51868214e-03  -2.26610387e-03\n",
      "    7.19763456e-04   0.00000000e+00   0.00000000e+00  -5.10236549e-02\n",
      "    0.00000000e+00  -3.47633726e-03   1.30705004e-03  -1.45830788e-02\n",
      "   -1.91048898e-04   6.65082271e-02   4.23240653e-05   6.22415897e-06\n",
      "   -2.89330197e-03   1.47606982e-03]\n",
      " [  0.00000000e+00  -7.75642553e-03  -1.20498190e-02  -1.30002801e-02\n",
      "    1.60518166e-03  -8.52950206e-03   0.00000000e+00  -5.10236549e-02\n",
      "    0.00000000e+00  -5.21450589e-03  -8.32384500e-03  -2.48168183e-02\n",
      "   -3.13866046e-04   0.00000000e+00   4.71047219e-05   1.56530415e-05\n",
      "    3.72914476e-03   1.64764925e-03]]\n"
     ]
    }
   ],
   "source": [
    "print features_train[0:3] - features_test[0]"
   ]
  },
  {
   "cell_type": "markdown",
   "metadata": {},
   "source": [
    "Note that the output of this vectorized operation is identical to that of the loop above, which can be verified below:"
   ]
  },
  {
   "cell_type": "code",
   "execution_count": 15,
   "metadata": {
    "collapsed": false
   },
   "outputs": [
    {
     "name": "stdout",
     "output_type": "stream",
     "text": [
      "[ 0.  0.  0.  0.  0.  0.  0.  0.  0.  0.  0.  0.  0.  0.  0.  0.  0.  0.]\n",
      "[ 0.  0.  0.  0.  0.  0.  0.  0.  0.  0.  0.  0.  0.  0.  0.  0.  0.  0.]\n",
      "[ 0.  0.  0.  0.  0.  0.  0.  0.  0.  0.  0.  0.  0.  0.  0.  0.  0.  0.]\n"
     ]
    }
   ],
   "source": [
    "# verify that vectorization works\n",
    "results = features_train[0:3] - features_test[0]\n",
    "print results[0] - (features_train[0]-features_test[0])\n",
    "# should print all 0's if results[0] == (features_train[0]-features_test[0])\n",
    "print results[1] - (features_train[1]-features_test[0])\n",
    "# should print all 0's if results[1] == (features_train[1]-features_test[0])\n",
    "print results[2] - (features_train[2]-features_test[0])\n",
    "# should print all 0's if results[2] == (features_train[2]-features_test[0])"
   ]
  },
  {
   "cell_type": "markdown",
   "metadata": {},
   "source": [
    "Aside: it is a good idea to write tests like this cell whenever you are vectorizing a complicated operation."
   ]
  },
  {
   "cell_type": "markdown",
   "metadata": {},
   "source": [
    "# Perform 1-nearest neighbor regression\n",
    "\n",
    "Now that we have the element-wise differences, it is not too hard to compute the Euclidean distances between our query house and all of the training houses. First, write a single-line expression to define a variable `diff` such that `diff[i]` gives the element-wise difference between the features of the query house and the `i`-th training house."
   ]
  },
  {
   "cell_type": "code",
   "execution_count": 16,
   "metadata": {
    "collapsed": false
   },
   "outputs": [
    {
     "name": "stdout",
     "output_type": "stream",
     "text": [
      "[[  0.00000000e+00  -3.87821276e-03  -1.20498190e-02 ...,   1.30577772e-05\n",
      "   -5.14364795e-03   6.69281453e-04]\n",
      " [  0.00000000e+00  -3.87821276e-03  -4.51868214e-03 ...,   6.22415897e-06\n",
      "   -2.89330197e-03   1.47606982e-03]\n",
      " [  0.00000000e+00  -7.75642553e-03  -1.20498190e-02 ...,   1.56530415e-05\n",
      "    3.72914476e-03   1.64764925e-03]\n",
      " ..., \n",
      " [  0.00000000e+00  -3.87821276e-03  -3.01245476e-03 ...,   5.43940273e-05\n",
      "    8.35842791e-04   7.02137088e-04]\n",
      " [  0.00000000e+00   0.00000000e+00  -3.01245476e-03 ...,   2.28925105e-05\n",
      "    2.44323277e-03   8.20579624e-04]\n",
      " [  0.00000000e+00  -3.87821276e-03  -3.01245476e-03 ...,   3.22568982e-06\n",
      "   -3.92203156e-03  -1.01041218e-03]]\n"
     ]
    }
   ],
   "source": [
    "diff = features_train-q_house\n",
    "print diff"
   ]
  },
  {
   "cell_type": "markdown",
   "metadata": {},
   "source": [
    "To test the code above, run the following cell, which should output a value -0.0934339605842:"
   ]
  },
  {
   "cell_type": "code",
   "execution_count": 17,
   "metadata": {
    "collapsed": false
   },
   "outputs": [
    {
     "name": "stdout",
     "output_type": "stream",
     "text": [
      "-0.0934339605842\n"
     ]
    }
   ],
   "source": [
    "print diff[-1].sum() # sum of the feature differences between the query and last training house\n",
    "# should print -0.0934339605842"
   ]
  },
  {
   "cell_type": "markdown",
   "metadata": {},
   "source": [
    "The next step in computing the Euclidean distances is to take these feature-by-feature differences in `diff`, square each, and take the sum over feature indices.  That is, compute the sum of square feature differences for each training house (row in `diff`).\n",
    "\n",
    "By default, `np.sum` sums up everything in the matrix and returns a single number. To instead sum only over a row or column, we need to specifiy the `axis` parameter described in the `np.sum` [documentation](http://docs.scipy.org/doc/numpy-1.10.1/reference/generated/numpy.sum.html). In particular, `axis=1` computes the sum across each row.\n",
    "\n",
    "Below, we compute this sum of square feature differences for all training houses and verify that the output for the 16th house in the training set is equivalent to having examined only the 16th row of `diff` and computing the sum of squares on that row alone."
   ]
  },
  {
   "cell_type": "code",
   "execution_count": 18,
   "metadata": {
    "collapsed": false
   },
   "outputs": [
    {
     "name": "stdout",
     "output_type": "stream",
     "text": [
      "0.00330705902879\n",
      "0.00330705902879\n"
     ]
    }
   ],
   "source": [
    "print np.sum(diff**2, axis=1)[15] # take sum of squares across each row, and print the 16th sum\n",
    "print np.sum(diff[15]**2) # print the sum of squares for the 16th row -- should be same as above"
   ]
  },
  {
   "cell_type": "markdown",
   "metadata": {},
   "source": [
    "With this result in mind, write a single-line expression to compute the Euclidean distances between the query house and all houses in the training set. Assign the result to a variable `distances`.\n",
    "\n",
    "**Hint**: Do not forget to take the square root of the sum of squares."
   ]
  },
  {
   "cell_type": "code",
   "execution_count": 19,
   "metadata": {
    "collapsed": false
   },
   "outputs": [],
   "source": [
    "distances = np.sqrt(np.sum(diff**2, axis=1))"
   ]
  },
  {
   "cell_type": "markdown",
   "metadata": {},
   "source": [
    "To test the code above, run the following cell, which should output a value 0.0237082324496:"
   ]
  },
  {
   "cell_type": "code",
   "execution_count": 20,
   "metadata": {
    "collapsed": false
   },
   "outputs": [
    {
     "name": "stdout",
     "output_type": "stream",
     "text": [
      "0.0237082324496\n"
     ]
    }
   ],
   "source": [
    "print distances[100] # Euclidean distance between the query house and the 101th training house\n",
    "# should print 0.0237082324496"
   ]
  },
  {
   "cell_type": "markdown",
   "metadata": {},
   "source": [
    "Now you are ready to write a function that computes the distances from a query house to all training houses. The function should take two parameters: (i) the matrix of training features and (ii) the single feature vector associated with the query."
   ]
  },
  {
   "cell_type": "code",
   "execution_count": 21,
   "metadata": {
    "collapsed": true
   },
   "outputs": [],
   "source": [
    "def compute_distance(features_matrix, query_features_vector):\n",
    "    diff = features_matrix-query_features_vector\n",
    "    distances = np.sqrt(np.sum(diff**2, axis=1))\n",
    "    return distances"
   ]
  },
  {
   "cell_type": "markdown",
   "metadata": {
    "collapsed": false
   },
   "source": [
    "*** QUIZ QUESTIONS ***\n",
    "\n",
    "1.  Take the query house to be third house of the test set (`features_test[2]`).  What is the index of the house in the training set that is closest to this query house?\n",
    "> 382\n",
    "2.  What is the predicted value of the query house based on 1-nearest neighbor regression?\n",
    "> 249000"
   ]
  },
  {
   "cell_type": "code",
   "execution_count": 22,
   "metadata": {
    "collapsed": false
   },
   "outputs": [
    {
     "data": {
      "text/plain": [
       "382"
      ]
     },
     "execution_count": 22,
     "metadata": {},
     "output_type": "execute_result"
    }
   ],
   "source": [
    "distances = compute_distance(features_train, features_test[2])\n",
    "np.argmin(distances)"
   ]
  },
  {
   "cell_type": "code",
   "execution_count": 23,
   "metadata": {
    "collapsed": false
   },
   "outputs": [
    {
     "data": {
      "text/plain": [
       "249000"
      ]
     },
     "execution_count": 23,
     "metadata": {},
     "output_type": "execute_result"
    }
   ],
   "source": [
    "output_train[382]"
   ]
  },
  {
   "cell_type": "markdown",
   "metadata": {},
   "source": [
    "# Perform k-nearest neighbor regression"
   ]
  },
  {
   "cell_type": "markdown",
   "metadata": {},
   "source": [
    "For k-nearest neighbors, we need to find a *set* of k houses in the training set closest to a given query house. We then make predictions based on these k nearest neighbors."
   ]
  },
  {
   "cell_type": "markdown",
   "metadata": {},
   "source": [
    "## Fetch k-nearest neighbors\n",
    "\n",
    "Using the functions above, implement a function that takes in\n",
    " * the value of k;\n",
    " * the feature matrix for the training houses; and\n",
    " * the feature vector of the query house\n",
    " \n",
    "and returns the indices of the k closest training houses. For instance, with 2-nearest neighbor, a return value of [5, 10] would indicate that the 6th and 11th training houses are closest to the query house.\n",
    "\n",
    "**Hint**: Look at the [documentation for `np.argsort`](http://docs.scipy.org/doc/numpy/reference/generated/numpy.argsort.html)."
   ]
  },
  {
   "cell_type": "code",
   "execution_count": 24,
   "metadata": {
    "collapsed": false
   },
   "outputs": [
    {
     "name": "stdout",
     "output_type": "stream",
     "text": [
      "[ 0.00631767  0.06897593  0.01140266  0.02770946  0.01021495]\n",
      "[0 4 2 3 1]\n",
      "[ 0.00631767  0.01021495  0.01140266  0.02770946  0.06897593]\n"
     ]
    }
   ],
   "source": [
    "a = compute_distance(features_train[0:5], features_test[3])\n",
    "print a\n",
    "print np.argsort(a)\n",
    "print np.sort(a)"
   ]
  },
  {
   "cell_type": "code",
   "execution_count": 25,
   "metadata": {
    "collapsed": true
   },
   "outputs": [],
   "source": [
    "def kk_neighbors(k, training_data_matrix, query_data_vector):\n",
    "    \n",
    "    # distknn is the distance of the first k elements\n",
    "    distknn = compute_distance(training_data_matrix[0:k], query_data_vector)\n",
    "    \n",
    "    # closest_points_index is a vector distknn order\n",
    "    closest_points_index = np.argsort(distknn)\n",
    "    \n",
    "    n = len(training_data_matrix)\n",
    "    for i in range(k+1,n):\n",
    "        \n",
    "        # closest_points_index is a vector distknn order\n",
    "        distknn_index = np.argsort(distknn)\n",
    "        \n",
    "        # compute current index distance\n",
    "        ro = compute_distance(training_data_matrix[i:i+1], query_data_vector)\n",
    "        \n",
    "        # print 'i: ', i\n",
    "        # print 'distknn_index', distknn_index\n",
    "        # print 'distknn', distknn\n",
    "        # print 'ro', ro\n",
    "        \n",
    "        # find its position in the knn vector\n",
    "        changed = 0\n",
    "        for j in range(k):\n",
    "            \n",
    "            # print 'j', j\n",
    "            \n",
    "            if(distknn[distknn_index[j]]>ro and not changed):\n",
    "\n",
    "                # add current element to this place\n",
    "                closest_points_index = np.insert(closest_points_index, j, i)\n",
    "                distknn = np.insert(distknn, j, ro)\n",
    "                \n",
    "                # print 'closest_points_index before removal', closest_points_index\n",
    "                # print 'distknn before removal', distknn\n",
    "                \n",
    "                # remove latest element\n",
    "                closest_points_index = np.delete(closest_points_index, k)\n",
    "                distknn = np.delete(distknn, k)\n",
    "                \n",
    "                # print 'closest_points_index after removal', closest_points_index\n",
    "                # print 'distknn after removal', distknn\n",
    "                \n",
    "                changed = 1\n",
    "    return closest_points_index"
   ]
  },
  {
   "cell_type": "markdown",
   "metadata": {},
   "source": [
    "*** QUIZ QUESTION ***\n",
    "\n",
    "Take the query house to be third house of the test set (`features_test[2]`).  What are the indices of the 4 training houses closest to the query house?\n",
    "> 382, 1149, 4087, 3142"
   ]
  },
  {
   "cell_type": "code",
   "execution_count": 26,
   "metadata": {
    "collapsed": false
   },
   "outputs": [
    {
     "data": {
      "text/plain": [
       "array([ 382, 1149, 4087, 3142], dtype=int64)"
      ]
     },
     "execution_count": 26,
     "metadata": {},
     "output_type": "execute_result"
    }
   ],
   "source": [
    "kk_neighbors(4, features_train, features_test[2])"
   ]
  },
  {
   "cell_type": "markdown",
   "metadata": {},
   "source": [
    "## Make a single prediction by averaging k nearest neighbor outputs"
   ]
  },
  {
   "cell_type": "markdown",
   "metadata": {},
   "source": [
    "Now that we know how to find the k-nearest neighbors, write a function that predicts the value of a given query house. **For simplicity, take the average of the prices of the k nearest neighbors in the training set**. The function should have the following parameters:\n",
    " * the value of k;\n",
    " * the feature matrix for the training houses;\n",
    " * the output values (prices) of the training houses; and\n",
    " * the feature vector of the query house, whose price we are predicting.\n",
    " \n",
    "The function should return a predicted value of the query house.\n",
    "\n",
    "**Hint**: You can extract multiple items from a Numpy array using a list of indices. For instance, `output_train[[6, 10]]` returns the prices of the 7th and 11th training houses."
   ]
  },
  {
   "cell_type": "code",
   "execution_count": 27,
   "metadata": {
    "collapsed": true
   },
   "outputs": [],
   "source": [
    "def kk_neighbors_prediction(k, training_data_matrix, training_values, query_data_vector):\n",
    "    closest_elements = kk_neighbors(k, training_data_matrix, query_data_vector)\n",
    "    return np.average(training_values[closest_elements])"
   ]
  },
  {
   "cell_type": "markdown",
   "metadata": {},
   "source": [
    "*** QUIZ QUESTION ***\n",
    "\n",
    "Again taking the query house to be third house of the test set (`features_test[2]`), predict the value of the query house using k-nearest neighbors with `k=4` and the simple averaging method described and implemented above.\n",
    "> 413987.5"
   ]
  },
  {
   "cell_type": "code",
   "execution_count": 28,
   "metadata": {
    "collapsed": false
   },
   "outputs": [
    {
     "data": {
      "text/plain": [
       "413987.5"
      ]
     },
     "execution_count": 28,
     "metadata": {},
     "output_type": "execute_result"
    }
   ],
   "source": [
    "kk_neighbors_prediction(4, features_train, output_train, features_test[2])"
   ]
  },
  {
   "cell_type": "markdown",
   "metadata": {},
   "source": [
    "Compare this predicted value using 4-nearest neighbors to the predicted value using 1-nearest neighbor computed earlier."
   ]
  },
  {
   "cell_type": "markdown",
   "metadata": {},
   "source": [
    "## Make multiple predictions"
   ]
  },
  {
   "cell_type": "markdown",
   "metadata": {},
   "source": [
    "Write a function to predict the value of *each and every* house in a query set. (The query set can be any subset of the dataset, be it the test set or validation set.) The idea is to have a loop where we take each house in the query set as the query house and make a prediction for that specific house. The new function should take the following parameters:\n",
    " * the value of k;\n",
    " * the feature matrix for the training houses;\n",
    " * the output values (prices) of the training houses; and\n",
    " * the feature matrix for the query set.\n",
    " \n",
    "The function should return a set of predicted values, one for each house in the query set.\n",
    "\n",
    "**Hint**: To get the number of houses in the query set, use the `.shape` field of the query features matrix. See [the documentation](http://docs.scipy.org/doc/numpy-1.10.1/reference/generated/numpy.ndarray.shape.html)."
   ]
  },
  {
   "cell_type": "code",
   "execution_count": 29,
   "metadata": {
    "collapsed": false
   },
   "outputs": [
    {
     "data": {
      "text/plain": [
       "413987.5"
      ]
     },
     "execution_count": 29,
     "metadata": {},
     "output_type": "execute_result"
    }
   ],
   "source": [
    "kk_neighbors_prediction(4, features_train, output_train, features_test[0:10][2])"
   ]
  },
  {
   "cell_type": "code",
   "execution_count": 30,
   "metadata": {
    "collapsed": true
   },
   "outputs": [],
   "source": [
    "def all_kk_neighbors_prediction(k, training_data_matrix, training_values, validation_data_matrix):\n",
    "    length = validation_data_matrix.shape[0]\n",
    "    predictions = []\n",
    "    for i in range(length):\n",
    "        prediction = kk_neighbors_prediction(k, training_data_matrix, training_values, validation_data_matrix[i])\n",
    "        predictions.append(prediction)\n",
    "    return predictions"
   ]
  },
  {
   "cell_type": "markdown",
   "metadata": {},
   "source": [
    "*** QUIZ QUESTION ***\n",
    "\n",
    "Make predictions for the first 10 houses in the test set using k-nearest neighbors with `k=10`. \n",
    "\n",
    "1. What is the index of the house in this query set that has the lowest predicted value? \n",
    "> 7\n",
    "2. What is the predicted value of this house?\n",
    "> 350.032"
   ]
  },
  {
   "cell_type": "code",
   "execution_count": 31,
   "metadata": {
    "collapsed": false
   },
   "outputs": [
    {
     "name": "stdout",
     "output_type": "stream",
     "text": [
      "[881300.0, 431860.0, 460595.0, 430200.0, 766750.0, 667420.0, 350032.0, 512800.70000000001, 484000.0, 457235.0]\n"
     ]
    }
   ],
   "source": [
    "predictions = all_kk_neighbors_prediction(10, features_train, output_train, features_test[0:10])\n",
    "print predictions"
   ]
  },
  {
   "cell_type": "markdown",
   "metadata": {},
   "source": [
    "## Choosing the best value of k using a validation set"
   ]
  },
  {
   "cell_type": "markdown",
   "metadata": {},
   "source": [
    "There remains a question of choosing the value of k to use in making predictions. Here, we use a validation set to choose this value. Write a loop that does the following:\n",
    "\n",
    "* For `k` in [1, 2, ..., 15]:\n",
    "    * Makes predictions for each house in the VALIDATION set using the k-nearest neighbors from the TRAINING set.\n",
    "    * Computes the RSS for these predictions on the VALIDATION set\n",
    "    * Stores the RSS computed above in `rss_all`\n",
    "* Report which `k` produced the lowest RSS on VALIDATION set."
   ]
  },
  {
   "cell_type": "markdown",
   "metadata": {},
   "source": [
    "(Depending on your computing environment, this computation may take 10-15 minutes.)"
   ]
  },
  {
   "cell_type": "code",
   "execution_count": 32,
   "metadata": {
    "collapsed": false
   },
   "outputs": [
    {
     "data": {
      "text/plain": [
       "array([385000, 285000, 687500, ..., 329000, 362500, 429000], dtype=int64)"
      ]
     },
     "execution_count": 32,
     "metadata": {},
     "output_type": "execute_result"
    }
   ],
   "source": [
    "output_valid"
   ]
  },
  {
   "cell_type": "code",
   "execution_count": 153,
   "metadata": {
    "collapsed": false
   },
   "outputs": [
    {
     "name": "stdout",
     "output_type": "stream",
     "text": [
      "k = 1\n",
      "-6.16668296651e+14\n",
      "k = 2\n",
      "-6.16668294065e+14\n",
      "k = 3\n",
      "-6.16668292887e+14\n",
      "k = 4\n",
      "-6.16668290692e+14\n",
      "k = 5\n",
      "-6.16668292097e+14\n",
      "k = 6\n",
      "-6.16668294723e+14\n",
      "k = 7\n",
      "-6.16668294924e+14\n",
      "k = 8\n",
      "-6.16668296137e+14\n",
      "k = 9\n",
      "-6.16668296474e+14\n",
      "k = 10\n",
      "-6.16668296038e+14\n",
      "k = 11\n",
      "-6.1666829566e+14\n",
      "k = 12\n",
      "-6.16668295963e+14\n",
      "k = 13\n",
      "-6.16668298292e+14\n",
      "k = 14\n",
      "-6.16668298124e+14\n",
      "k = 15\n",
      "-6.16668298917e+14\n",
      "[-616668296651115.0, -616668294065198.0, -616668292886547.0, -616668290691824.25, -616668292097231.37, -616668294723455.25, -616668294924095.75, -616668296136835.25, -616668296473575.0, -616668296037747.5, -616668295660494.75, -616668295962555.5, -616668298291726.5, -616668298123607.37, -616668298916657.75]\n"
     ]
    }
   ],
   "source": [
    "rss_all = []\n",
    "for k in range(1,16):\n",
    "    print 'k =', k\n",
    "    \n",
    "    predictions = all_kk_neighbors_prediction(k, features_train, output_train, features_valid)\n",
    "    rss = (predictions - output_valid**2).sum()\n",
    "    print rss\n",
    "    rss_all.append(rss)\n",
    "print rss_all"
   ]
  },
  {
   "cell_type": "markdown",
   "metadata": {
    "collapsed": false
   },
   "source": [
    "To visualize the performance as a function of `k`, plot the RSS on the VALIDATION set for each considered `k` value:"
   ]
  },
  {
   "cell_type": "code",
   "execution_count": 154,
   "metadata": {
    "collapsed": false
   },
   "outputs": [
    {
     "data": {
      "text/plain": [
       "[<matplotlib.lines.Line2D at 0x2d3511d0>]"
      ]
     },
     "execution_count": 154,
     "metadata": {},
     "output_type": "execute_result"
    },
    {
     "data": {
      "image/png": "[encoded data removed]",
      "text/plain": [
       "<Figure size 600x400 with 1 Axes>"
      ]
     },
     "metadata": {},
     "output_type": "display_data"
    }
   ],
   "source": [
    "import matplotlib.pyplot as plt\n",
    "%matplotlib inline\n",
    "\n",
    "kvals = range(1, 16)\n",
    "plt.plot(kvals, rss_all,'bo-')"
   ]
  },
  {
   "cell_type": "markdown",
   "metadata": {},
   "source": [
    "***QUIZ QUESTION ***\n",
    "\n",
    "What is the RSS on the TEST data using the value of k found above?  To be clear, sum over all houses in the TEST set."
   ]
  },
  {
   "cell_type": "code",
   "execution_count": null,
   "metadata": {
    "collapsed": false
   },
   "outputs": [],
   "source": []
  }
 ],
 "metadata": {
  "kernelspec": {
   "display_name": "Python 2",
   "language": "python",
   "name": "python2"
  },
  "language_info": {
   "codemirror_mode": {
    "name": "ipython",
    "version": 2
   },
   "file_extension": ".py",
   "mimetype": "text/x-python",
   "name": "python",
   "nbconvert_exporter": "python",
   "pygments_lexer": "ipython2",
   "version": "2.7.13"
  }
 },
 "nbformat": 4,
 "nbformat_minor": 0
}
